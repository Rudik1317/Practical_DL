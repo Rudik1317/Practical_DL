{
  "cells": [
    {
      "cell_type": "markdown",
      "metadata": {
        "id": "goM2bS-Duj2O"
      },
      "source": [
        "# REINFORCE in PyTorch\n",
        "\n",
        "Just like we did before for Q-learning, this time we'll design a PyTorch network to learn `CartPole-v0` via policy gradient (REINFORCE).\n",
        "\n",
        "Most of the code in this notebook is taken from approximate Q-learning, so you'll find it more or less familiar and even simpler."
      ]
    },
    {
      "cell_type": "code",
      "execution_count": 1,
      "metadata": {
        "id": "rXhRrV_8uj2U",
        "outputId": "7b723a2b-e458-4c35-be39-66f1bfdeab0d",
        "colab": {
          "base_uri": "https://localhost:8080/"
        }
      },
      "outputs": [
        {
          "output_type": "stream",
          "name": "stdout",
          "text": [
            "Selecting previously unselected package libfontenc1:amd64.\n",
            "(Reading database ... 120903 files and directories currently installed.)\n",
            "Preparing to unpack .../0-libfontenc1_1%3a1.1.4-1build3_amd64.deb ...\n",
            "Unpacking libfontenc1:amd64 (1:1.1.4-1build3) ...\n",
            "Selecting previously unselected package libxfont2:amd64.\n",
            "Preparing to unpack .../1-libxfont2_1%3a2.0.5-1build1_amd64.deb ...\n",
            "Unpacking libxfont2:amd64 (1:2.0.5-1build1) ...\n",
            "Selecting previously unselected package libxkbfile1:amd64.\n",
            "Preparing to unpack .../2-libxkbfile1_1%3a1.1.0-1build3_amd64.deb ...\n",
            "Unpacking libxkbfile1:amd64 (1:1.1.0-1build3) ...\n",
            "Selecting previously unselected package x11-xkb-utils.\n",
            "Preparing to unpack .../3-x11-xkb-utils_7.7+5build4_amd64.deb ...\n",
            "Unpacking x11-xkb-utils (7.7+5build4) ...\n",
            "Selecting previously unselected package xfonts-encodings.\n",
            "Preparing to unpack .../4-xfonts-encodings_1%3a1.0.5-0ubuntu2_all.deb ...\n",
            "Unpacking xfonts-encodings (1:1.0.5-0ubuntu2) ...\n",
            "Selecting previously unselected package xfonts-utils.\n",
            "Preparing to unpack .../5-xfonts-utils_1%3a7.7+6build2_amd64.deb ...\n",
            "Unpacking xfonts-utils (1:7.7+6build2) ...\n",
            "Selecting previously unselected package xfonts-base.\n",
            "Preparing to unpack .../6-xfonts-base_1%3a1.0.5_all.deb ...\n",
            "Unpacking xfonts-base (1:1.0.5) ...\n",
            "Selecting previously unselected package xserver-common.\n",
            "Preparing to unpack .../7-xserver-common_2%3a21.1.4-2ubuntu1.7~22.04.2_all.deb ...\n",
            "Unpacking xserver-common (2:21.1.4-2ubuntu1.7~22.04.2) ...\n",
            "Selecting previously unselected package xvfb.\n",
            "Preparing to unpack .../8-xvfb_2%3a21.1.4-2ubuntu1.7~22.04.2_amd64.deb ...\n",
            "Unpacking xvfb (2:21.1.4-2ubuntu1.7~22.04.2) ...\n",
            "Setting up libfontenc1:amd64 (1:1.1.4-1build3) ...\n",
            "Setting up xfonts-encodings (1:1.0.5-0ubuntu2) ...\n",
            "Setting up libxkbfile1:amd64 (1:1.1.0-1build3) ...\n",
            "Setting up libxfont2:amd64 (1:2.0.5-1build1) ...\n",
            "Setting up x11-xkb-utils (7.7+5build4) ...\n",
            "Setting up xfonts-utils (1:7.7+6build2) ...\n",
            "Setting up xfonts-base (1:1.0.5) ...\n",
            "Setting up xserver-common (2:21.1.4-2ubuntu1.7~22.04.2) ...\n",
            "Setting up xvfb (2:21.1.4-2ubuntu1.7~22.04.2) ...\n",
            "Processing triggers for man-db (2.10.2-1) ...\n",
            "Processing triggers for fontconfig (2.13.1-4.2ubuntu5) ...\n",
            "Processing triggers for libc-bin (2.35-0ubuntu3.4) ...\n",
            "/sbin/ldconfig.real: /usr/local/lib/libtbbbind_2_0.so.3 is not a symbolic link\n",
            "\n",
            "/sbin/ldconfig.real: /usr/local/lib/libtbb.so.12 is not a symbolic link\n",
            "\n",
            "/sbin/ldconfig.real: /usr/local/lib/libtbbmalloc_proxy.so.2 is not a symbolic link\n",
            "\n",
            "/sbin/ldconfig.real: /usr/local/lib/libtbbbind.so.3 is not a symbolic link\n",
            "\n",
            "/sbin/ldconfig.real: /usr/local/lib/libtbbmalloc.so.2 is not a symbolic link\n",
            "\n",
            "/sbin/ldconfig.real: /usr/local/lib/libtbbbind_2_5.so.3 is not a symbolic link\n",
            "\n",
            "\u001b[2K     \u001b[90m━━━━━━━━━━━━━━━━━━━━━━━━━━━━━━━━━━━━━━━━\u001b[0m \u001b[32m953.9/953.9 kB\u001b[0m \u001b[31m7.1 MB/s\u001b[0m eta \u001b[36m0:00:00\u001b[0m\n",
            "\u001b[?25hRequirement already satisfied: moviepy in /usr/local/lib/python3.10/dist-packages (1.0.3)\n",
            "Requirement already satisfied: decorator<5.0,>=4.0.2 in /usr/local/lib/python3.10/dist-packages (from moviepy) (4.4.2)\n",
            "Requirement already satisfied: tqdm<5.0,>=4.11.2 in /usr/local/lib/python3.10/dist-packages (from moviepy) (4.66.1)\n",
            "Requirement already satisfied: requests<3.0,>=2.8.1 in /usr/local/lib/python3.10/dist-packages (from moviepy) (2.31.0)\n",
            "Requirement already satisfied: proglog<=1.0.0 in /usr/local/lib/python3.10/dist-packages (from moviepy) (0.1.10)\n",
            "Requirement already satisfied: numpy>=1.17.3 in /usr/local/lib/python3.10/dist-packages (from moviepy) (1.23.5)\n",
            "Requirement already satisfied: imageio<3.0,>=2.5 in /usr/local/lib/python3.10/dist-packages (from moviepy) (2.31.6)\n",
            "Requirement already satisfied: imageio-ffmpeg>=0.2.0 in /usr/local/lib/python3.10/dist-packages (from moviepy) (0.4.9)\n",
            "Requirement already satisfied: pillow<10.1.0,>=8.3.2 in /usr/local/lib/python3.10/dist-packages (from imageio<3.0,>=2.5->moviepy) (9.4.0)\n",
            "Requirement already satisfied: setuptools in /usr/local/lib/python3.10/dist-packages (from imageio-ffmpeg>=0.2.0->moviepy) (67.7.2)\n",
            "Requirement already satisfied: charset-normalizer<4,>=2 in /usr/local/lib/python3.10/dist-packages (from requests<3.0,>=2.8.1->moviepy) (3.3.2)\n",
            "Requirement already satisfied: idna<4,>=2.5 in /usr/local/lib/python3.10/dist-packages (from requests<3.0,>=2.8.1->moviepy) (3.6)\n",
            "Requirement already satisfied: urllib3<3,>=1.21.1 in /usr/local/lib/python3.10/dist-packages (from requests<3.0,>=2.8.1->moviepy) (2.0.7)\n",
            "Requirement already satisfied: certifi>=2017.4.17 in /usr/local/lib/python3.10/dist-packages (from requests<3.0,>=2.8.1->moviepy) (2023.11.17)\n",
            "Reading package lists... Done\n",
            "Building dependency tree... Done\n",
            "Reading state information... Done\n",
            "ffmpeg is already the newest version (7:4.4.2-0ubuntu0.22.04.1).\n",
            "0 upgraded, 0 newly installed, 0 to remove and 24 not upgraded.\n",
            "Requirement already satisfied: imageio-ffmpeg in /usr/local/lib/python3.10/dist-packages (0.4.9)\n",
            "Requirement already satisfied: setuptools in /usr/local/lib/python3.10/dist-packages (from imageio-ffmpeg) (67.7.2)\n",
            "Starting virtual X frame buffer: Xvfb.\n"
          ]
        }
      ],
      "source": [
        "import sys, os\n",
        "if 'google.colab' in sys.modules and not os.path.exists('.setup_complete'):\n",
        "    !wget -q https://raw.githubusercontent.com/yandexdataschool/Practical_RL/master/setup_colab.sh -O- | bash\n",
        "    !pip install -q gymnasium\n",
        "    !pip install moviepy\n",
        "    !apt install ffmpeg\n",
        "    !pip install imageio-ffmpeg\n",
        "    !touch .setup_complete\n",
        "\n",
        "# This code creates a virtual display to draw game images on.\n",
        "# It will have no effect if your machine has a monitor.\n",
        "if type(os.environ.get(\"DISPLAY\")) is not str or len(os.environ.get(\"DISPLAY\")) == 0:\n",
        "    !bash ../xvfb start\n",
        "    os.environ['DISPLAY'] = ':1'"
      ]
    },
    {
      "cell_type": "code",
      "execution_count": 2,
      "metadata": {
        "id": "oPHpuiAauj2W"
      },
      "outputs": [],
      "source": [
        "import gymnasium as gym\n",
        "import numpy as np\n",
        "import matplotlib.pyplot as plt\n",
        "%matplotlib inline"
      ]
    },
    {
      "cell_type": "code",
      "execution_count": 3,
      "metadata": {
        "id": "WMCNrNaFuj2X"
      },
      "outputs": [],
      "source": [
        "# also you need to install ffmpeg if not installed\n",
        "# for MacOS: ! brew install ffmpeg"
      ]
    },
    {
      "cell_type": "markdown",
      "metadata": {
        "id": "F-Cm9TILuj2Y"
      },
      "source": [
        "A caveat: with some versions of `pyglet`, the following cell may crash with `NameError: name 'base' is not defined`. The corresponding bug report is [here](https://github.com/pyglet/pyglet/issues/134). If you see this error, try restarting the kernel."
      ]
    },
    {
      "cell_type": "code",
      "execution_count": 4,
      "metadata": {
        "id": "4DW1CjxYuj2Y",
        "outputId": "58b2fdce-aa29-4175-c641-4089f6ba8ffa",
        "colab": {
          "base_uri": "https://localhost:8080/",
          "height": 413
        }
      },
      "outputs": [
        {
          "output_type": "execute_result",
          "data": {
            "text/plain": [
              "<matplotlib.image.AxesImage at 0x7d772dffb370>"
            ]
          },
          "metadata": {},
          "execution_count": 4
        },
        {
          "output_type": "display_data",
          "data": {
            "text/plain": [
              "<Figure size 640x480 with 1 Axes>"
            ],
            "image/png": "[encoded data removed]"
          },
          "metadata": {}
        }
      ],
      "source": [
        "env = gym.make(\"CartPole-v1\", render_mode=\"rgb_array\")\n",
        "\n",
        "# gym compatibility: unwrap TimeLimit\n",
        "if hasattr(env, '_max_episode_steps'):\n",
        "    env = env.env\n",
        "\n",
        "env.reset()\n",
        "n_actions = env.action_space.n\n",
        "state_dim = env.observation_space.shape\n",
        "\n",
        "plt.imshow(env.render())"
      ]
    },
    {
      "cell_type": "markdown",
      "metadata": {
        "id": "c3sctrNcuj2Z"
      },
      "source": [
        "# Building the network for REINFORCE"
      ]
    },
    {
      "cell_type": "markdown",
      "metadata": {
        "id": "06O4zlq0uj2Z"
      },
      "source": [
        "For REINFORCE algorithm, we'll need a model that predicts action probabilities given states.\n",
        "\n",
        "For numerical stability, please __do not include the softmax layer into your network architecture__.\n",
        "We'll use softmax or log-softmax where appropriate."
      ]
    },
    {
      "cell_type": "code",
      "execution_count": 9,
      "metadata": {
        "id": "5SFlbGL3uj2a"
      },
      "outputs": [],
      "source": [
        "import torch\n",
        "import torch.nn as nn\n",
        "import torch.nn.functional as F"
      ]
    },
    {
      "cell_type": "code",
      "execution_count": 10,
      "metadata": {
        "id": "iXMVxvGluj2b"
      },
      "outputs": [],
      "source": [
        "# Build a simple neural network that predicts policy logits.\n",
        "# Keep it simple: CartPole isn't worth deep architectures.\n",
        "model = nn.Sequential(\n",
        "  nn.Linear(4,100),\n",
        "  nn.ReLU(),\n",
        "  nn.Linear(100,2)\n",
        ")"
      ]
    },
    {
      "cell_type": "markdown",
      "metadata": {
        "id": "eNyzLZswuj2b"
      },
      "source": [
        "#### Predict function"
      ]
    },
    {
      "cell_type": "markdown",
      "metadata": {
        "id": "I6wPDzoXuj2c"
      },
      "source": [
        "Note: output value of this function is not a torch tensor, it's a numpy array.\n",
        "So, here gradient calculation is not needed.\n",
        "<br>\n",
        "Use [no_grad](https://pytorch.org/docs/stable/autograd.html#torch.autograd.no_grad)\n",
        "to suppress gradient calculation.\n",
        "<br>\n",
        "Also, `.detach()` (or legacy `.data` property) can be used instead, but there is a difference:\n",
        "<br>\n",
        "With `.detach()` computational graph is built but then disconnected from a particular tensor,\n",
        "so `.detach()` should be used if that graph is needed for backprop via some other (not detached) tensor;\n",
        "<br>\n",
        "In contrast, no graph is built by any operation in `no_grad()` context, thus it's preferable here."
      ]
    },
    {
      "cell_type": "code",
      "execution_count": 11,
      "metadata": {
        "id": "nz_w8Ihhuj2c"
      },
      "outputs": [],
      "source": [
        "def predict_probs(states):\n",
        "    \"\"\"\n",
        "    Predict action probabilities given states.\n",
        "    :param states: numpy array of shape [batch, state_shape]\n",
        "    :returns: numpy array of shape [batch, n_actions]\n",
        "    \"\"\"\n",
        "    # convert states, compute logits, use softmax to get probability\n",
        "    states_tensor = torch.tensor(states, dtype=torch.float32)\n",
        "    with torch.no_grad():\n",
        "        # Forward pass to compute logits\n",
        "        logits = model(states_tensor)\n",
        "\n",
        "        # Use softmax to get probabilities\n",
        "        probs = torch.nn.functional.softmax(logits, dim=1)\n",
        "\n",
        "    return probs.numpy()"
      ]
    },
    {
      "cell_type": "code",
      "execution_count": 12,
      "metadata": {
        "id": "X1belqFeuj2c"
      },
      "outputs": [],
      "source": [
        "test_states = np.array([env.reset()[0] for _ in range(5)])\n",
        "test_probas = predict_probs(test_states)\n",
        "assert isinstance(test_probas, np.ndarray), \\\n",
        "    \"you must return np array and not %s\" % type(test_probas)\n",
        "assert tuple(test_probas.shape) == (test_states.shape[0], env.action_space.n), \\\n",
        "    \"wrong output shape: %s\" % np.shape(test_probas)\n",
        "assert np.allclose(np.sum(test_probas, axis=1), 1), \"probabilities do not sum to 1\""
      ]
    },
    {
      "cell_type": "markdown",
      "metadata": {
        "id": "pMStCbdNuj2d"
      },
      "source": [
        "### Play the game\n",
        "\n",
        "We can now use our newly built agent to play the game."
      ]
    },
    {
      "cell_type": "code",
      "execution_count": 20,
      "metadata": {
        "id": "JtSHHdVruj2d"
      },
      "outputs": [],
      "source": [
        "def generate_session(env, t_max=1000):\n",
        "    \"\"\"\n",
        "    Play a full session with REINFORCE agent.\n",
        "    Returns sequences of states, actions, and rewards.\n",
        "    \"\"\"\n",
        "    # arrays to record session\n",
        "    states, actions, rewards = [], [], []\n",
        "\n",
        "    s = env.reset()[0]\n",
        "\n",
        "    for t in range(t_max):\n",
        "        # action probabilities array aka pi(a|s)\n",
        "        action_probs = predict_probs(np.array([s]))[0]\n",
        "\n",
        "        # Sample action with given probabilities.\n",
        "        a = np.random.choice(2, p=action_probs)\n",
        "\n",
        "        new_s, r, terminated, truncated, info = env.step(a)\n",
        "\n",
        "        # record session history to train later\n",
        "        states.append(s)\n",
        "        actions.append(a)\n",
        "        rewards.append(r)\n",
        "\n",
        "        s = new_s\n",
        "        if terminated or truncated:\n",
        "            break\n",
        "\n",
        "    return states, actions, rewards"
      ]
    },
    {
      "cell_type": "code",
      "execution_count": 21,
      "metadata": {
        "id": "uNn_T_lJuj2d"
      },
      "outputs": [],
      "source": [
        "# test it\n",
        "states, actions, rewards = generate_session(env)"
      ]
    },
    {
      "cell_type": "markdown",
      "metadata": {
        "id": "Qwo6ugvmuj2e"
      },
      "source": [
        "### Computing cumulative rewards\n",
        "\n",
        "$$\n",
        "\\begin{align*}\n",
        "G_t &= r_t + \\gamma r_{t + 1} + \\gamma^2 r_{t + 2} + \\ldots \\\\\n",
        "&= \\sum_{i = t}^T \\gamma^{i - t} r_i \\\\\n",
        "&= r_t + \\gamma * G_{t + 1}\n",
        "\\end{align*}\n",
        "$$"
      ]
    },
    {
      "cell_type": "code",
      "execution_count": 22,
      "metadata": {
        "id": "JIB_k61fuj2e"
      },
      "outputs": [],
      "source": [
        "def get_cumulative_rewards(rewards,  # rewards at each step\n",
        "                           gamma=0.99  # discount for reward\n",
        "                           ):\n",
        "    \"\"\"\n",
        "    Take a list of immediate rewards r(s,a) for the whole session\n",
        "    and compute cumulative returns (a.k.a. G(s,a) in Sutton '16).\n",
        "\n",
        "    G_t = r_t + gamma*r_{t+1} + gamma^2*r_{t+2} + ...\n",
        "\n",
        "    A simple way to compute cumulative rewards is to iterate from the last\n",
        "    to the first timestep and compute G_t = r_t + gamma*G_{t+1} recurrently\n",
        "\n",
        "    You must return an array/list of cumulative rewards with as many elements as in the initial rewards.\n",
        "    \"\"\"\n",
        "    cumulative_rewards = [rewards[-1]]  # Start with the last reward\n",
        "\n",
        "    for t in range(len(rewards) - 2, -1, -1):\n",
        "        # Compute G_t = r_t + gamma * G_{t+1}\n",
        "        cumulative_rewards.insert(0, rewards[t] + gamma * cumulative_rewards[0])\n",
        "\n",
        "    return cumulative_rewards"
      ]
    },
    {
      "cell_type": "code",
      "execution_count": 23,
      "metadata": {
        "id": "qAdj2pxIuj2e",
        "outputId": "3fc649a4-ae8c-4a58-d4d5-d1a1f75ae9e6",
        "colab": {
          "base_uri": "https://localhost:8080/"
        }
      },
      "outputs": [
        {
          "output_type": "stream",
          "name": "stdout",
          "text": [
            "looks good!\n"
          ]
        }
      ],
      "source": [
        "get_cumulative_rewards(rewards)\n",
        "assert len(get_cumulative_rewards(list(range(100)))) == 100\n",
        "assert np.allclose(\n",
        "    get_cumulative_rewards([0, 0, 1, 0, 0, 1, 0], gamma=0.9),\n",
        "    [1.40049, 1.5561, 1.729, 0.81, 0.9, 1.0, 0.0])\n",
        "assert np.allclose(\n",
        "    get_cumulative_rewards([0, 0, 1, -2, 3, -4, 0], gamma=0.5),\n",
        "    [0.0625, 0.125, 0.25, -1.5, 1.0, -4.0, 0.0])\n",
        "assert np.allclose(\n",
        "    get_cumulative_rewards([0, 0, 1, 2, 3, 4, 0], gamma=0),\n",
        "    [0, 0, 1, 2, 3, 4, 0])\n",
        "print(\"looks good!\")"
      ]
    },
    {
      "cell_type": "markdown",
      "metadata": {
        "id": "PrmQ1YPauj2e"
      },
      "source": [
        "#### Loss function and updates\n",
        "\n",
        "We now need to define objective and update over policy gradient.\n",
        "\n",
        "Our objective function is\n",
        "\n",
        "$$ J \\approx  { 1 \\over N } \\sum_{s_i,a_i} G(s_i,a_i) $$\n",
        "\n",
        "REINFORCE defines a way to compute the gradient of the expected reward with respect to policy parameters. The formula is as follows:\n",
        "\n",
        "$$ \\nabla_\\theta \\hat J(\\theta) \\approx { 1 \\over N } \\sum_{s_i, a_i} \\nabla_\\theta \\log \\pi_\\theta (a_i \\mid s_i) \\cdot G_t(s_i, a_i) $$\n",
        "\n",
        "We can abuse PyTorch's capabilities for automatic differentiation by defining our objective function as follows:\n",
        "\n",
        "$$ \\hat J(\\theta) \\approx { 1 \\over N } \\sum_{s_i, a_i} \\log \\pi_\\theta (a_i \\mid s_i) \\cdot G_t(s_i, a_i) $$\n",
        "\n",
        "When you compute the gradient of that function with respect to network weights $\\theta$, it will become exactly the policy gradient."
      ]
    },
    {
      "cell_type": "code",
      "execution_count": 26,
      "metadata": {
        "id": "1XMpe7Cguj2f"
      },
      "outputs": [],
      "source": [
        "# Your code: define optimizers\n",
        "optimizer = torch.optim.Adam(model.parameters(), 1e-3)\n",
        "\n",
        "\n",
        "def train_on_session(states, actions, rewards, gamma=0.99, entropy_coef=1e-2):\n",
        "    \"\"\"\n",
        "    Takes a sequence of states, actions and rewards produced by generate_session.\n",
        "    Updates agent's weights by following the policy gradient above.\n",
        "    Please use Adam optimizer with default parameters.\n",
        "    \"\"\"\n",
        "\n",
        "    # cast everything into torch tensors\n",
        "    states = torch.tensor(states, dtype=torch.float32)\n",
        "    actions = torch.tensor(actions, dtype=torch.int64)\n",
        "    cumulative_returns = np.array(get_cumulative_rewards(rewards, gamma))\n",
        "    cumulative_returns = torch.tensor(cumulative_returns, dtype=torch.float32)\n",
        "\n",
        "    # predict logits, probas and log-probas using an agent.\n",
        "    logits = model(states)\n",
        "    probs = nn.functional.softmax(logits, -1)\n",
        "    log_probs = nn.functional.log_softmax(logits, -1)\n",
        "\n",
        "    assert all(isinstance(v, torch.Tensor) for v in [logits, probs, log_probs]), \\\n",
        "        \"please use compute using torch tensors and don't use predict_probs function\"\n",
        "\n",
        "    # select log-probabilities for chosen actions, log pi(a_i|s_i)\n",
        "    log_probs_for_actions = torch.sum(\n",
        "        log_probs * F.one_hot(actions, env.action_space.n), dim=1)\n",
        "\n",
        "    # Compute loss here. Don't forget entropy regularization with `entropy_coef`\n",
        "    entropy = -torch.sum(probs * log_probs, dim=1).mean()\n",
        "    policy_loss = -torch.mean(log_probs_for_actions * cumulative_returns)\n",
        "\n",
        "    # Combine policy loss and entropy regularization\n",
        "    loss = policy_loss - entropy_coef * entropy\n",
        "\n",
        "    # Gradient descent step\n",
        "    optimizer.zero_grad()\n",
        "    loss.backward()\n",
        "    optimizer.step()\n",
        "\n",
        "    # technical: return session rewards to print them later\n",
        "    return np.sum(rewards)"
      ]
    },
    {
      "cell_type": "markdown",
      "metadata": {
        "id": "njRP_q3juj2f"
      },
      "source": [
        "### The actual training"
      ]
    },
    {
      "cell_type": "code",
      "execution_count": 27,
      "metadata": {
        "id": "Fs4h2jBeuj2f",
        "outputId": "39abd343-e936-498e-d657-689ac43eb9a2",
        "colab": {
          "base_uri": "https://localhost:8080/"
        }
      },
      "outputs": [
        {
          "output_type": "stream",
          "name": "stderr",
          "text": [
            "<ipython-input-26-714db1472dad>:13: UserWarning: Creating a tensor from a list of numpy.ndarrays is extremely slow. Please consider converting the list to a single numpy.ndarray with numpy.array() before converting to a tensor. (Triggered internally at ../torch/csrc/utils/tensor_new.cpp:261.)\n",
            "  states = torch.tensor(states, dtype=torch.float32)\n"
          ]
        },
        {
          "output_type": "stream",
          "name": "stdout",
          "text": [
            "mean reward: 21.000\n",
            "mean reward: 26.730\n",
            "mean reward: 27.610\n",
            "mean reward: 36.600\n",
            "mean reward: 49.010\n",
            "mean reward: 88.680\n",
            "mean reward: 118.370\n",
            "mean reward: 172.870\n",
            "mean reward: 200.090\n",
            "mean reward: 222.700\n",
            "mean reward: 124.240\n",
            "mean reward: 148.470\n",
            "mean reward: 169.410\n",
            "mean reward: 118.420\n",
            "mean reward: 153.390\n",
            "mean reward: 212.710\n",
            "mean reward: 175.310\n",
            "mean reward: 254.800\n",
            "mean reward: 665.700\n",
            "You Win!\n"
          ]
        }
      ],
      "source": [
        "for i in range(100):\n",
        "    rewards = [train_on_session(*generate_session(env)) for _ in range(100)]  # generate new sessions\n",
        "\n",
        "    print(\"mean reward: %.3f\" % (np.mean(rewards)))\n",
        "\n",
        "    if np.mean(rewards) > 500:\n",
        "        print(\"You Win!\")  # but you can train even further\n",
        "        break"
      ]
    },
    {
      "cell_type": "markdown",
      "metadata": {
        "id": "4U6smxszuj2f"
      },
      "source": [
        "### Results & video"
      ]
    },
    {
      "cell_type": "code",
      "execution_count": 28,
      "metadata": {
        "id": "u-oJRRmGuj2g",
        "outputId": "d50ecbbb-5eea-436e-be68-ce432caa3b95",
        "colab": {
          "base_uri": "https://localhost:8080/"
        }
      },
      "outputs": [
        {
          "output_type": "stream",
          "name": "stdout",
          "text": [
            "Moviepy - Building video /content/videos/rl-video-episode-0.mp4.\n",
            "Moviepy - Writing video /content/videos/rl-video-episode-0.mp4\n",
            "\n"
          ]
        },
        {
          "output_type": "stream",
          "name": "stderr",
          "text": []
        },
        {
          "output_type": "stream",
          "name": "stdout",
          "text": [
            "Moviepy - Done !\n",
            "Moviepy - video ready /content/videos/rl-video-episode-0.mp4\n",
            "Moviepy - Building video /content/videos/rl-video-episode-1.mp4.\n",
            "Moviepy - Writing video /content/videos/rl-video-episode-1.mp4\n",
            "\n"
          ]
        },
        {
          "output_type": "stream",
          "name": "stderr",
          "text": []
        },
        {
          "output_type": "stream",
          "name": "stdout",
          "text": [
            "Moviepy - Done !\n",
            "Moviepy - video ready /content/videos/rl-video-episode-1.mp4\n",
            "Moviepy - Building video /content/videos/rl-video-episode-8.mp4.\n",
            "Moviepy - Writing video /content/videos/rl-video-episode-8.mp4\n",
            "\n"
          ]
        },
        {
          "output_type": "stream",
          "name": "stderr",
          "text": []
        },
        {
          "output_type": "stream",
          "name": "stdout",
          "text": [
            "Moviepy - Done !\n",
            "Moviepy - video ready /content/videos/rl-video-episode-8.mp4\n"
          ]
        }
      ],
      "source": [
        "# Record sessions\n",
        "\n",
        "from gymnasium.wrappers import RecordVideo\n",
        "\n",
        "with gym.make(\"CartPole-v1\", render_mode=\"rgb_array\") as env, RecordVideo(\n",
        "    env=env, video_folder=\"./videos\"\n",
        ") as env_monitor:\n",
        "    sessions = [generate_session(env_monitor) for _ in range(10)]\n"
      ]
    },
    {
      "cell_type": "code",
      "execution_count": 29,
      "metadata": {
        "id": "cTtb0urIuj2g",
        "outputId": "7c08d595-b74e-484f-a786-7f84c68dd424",
        "colab": {
          "base_uri": "https://localhost:8080/",
          "height": 501
        }
      },
      "outputs": [
        {
          "output_type": "execute_result",
          "data": {
            "text/plain": [
              "<IPython.core.display.HTML object>"
            ],
            "text/html": [
              "\n",
              "<video width=\"640\" height=\"480\" controls>\n",
              "  <source src=\"data:video/mp4;base64,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\" type=\"video/mp4\">\n",
              "</video>\n"
            ]
          },
          "metadata": {},
          "execution_count": 29
        }
      ],
      "source": [
        "# Show video. This may not work in some setups. If it doesn't\n",
        "# work for you, you can download the videos and view them locally.\n",
        "\n",
        "from pathlib import Path\n",
        "from base64 import b64encode\n",
        "from IPython.display import HTML\n",
        "\n",
        "video_paths = sorted([s for s in Path('videos').iterdir() if s.suffix == '.mp4'])\n",
        "video_path = video_paths[-1]  # You can also try other indices\n",
        "\n",
        "if 'google.colab' in sys.modules:\n",
        "    # https://stackoverflow.com/a/57378660/1214547\n",
        "    with video_path.open('rb') as fp:\n",
        "        mp4 = fp.read()\n",
        "    data_url = 'data:video/mp4;base64,' + b64encode(mp4).decode()\n",
        "else:\n",
        "    data_url = str(video_path)\n",
        "\n",
        "HTML(\"\"\"\n",
        "<video width=\"640\" height=\"480\" controls>\n",
        "  <source src=\"{}\" type=\"video/mp4\">\n",
        "</video>\n",
        "\"\"\".format(data_url))"
      ]
    },
    {
      "cell_type": "code",
      "source": [],
      "metadata": {
        "id": "Vuo5dIibwwZj"
      },
      "execution_count": null,
      "outputs": []
    }
  ],
  "metadata": {
    "kernelspec": {
      "display_name": "Python 3 (ipykernel)",
      "language": "python",
      "name": "python3"
    },
    "language_info": {
      "codemirror_mode": {
        "name": "ipython",
        "version": 3
      },
      "file_extension": ".py",
      "mimetype": "text/x-python",
      "name": "python",
      "nbconvert_exporter": "python",
      "pygments_lexer": "ipython3",
      "version": "3.9.16"
    },
    "colab": {
      "provenance": []
    }
  },
  "nbformat": 4,
  "nbformat_minor": 0
}